{
  "nbformat": 4,
  "nbformat_minor": 0,
  "metadata": {
    "colab": {
      "provenance": [],
      "mount_file_id": "1H3Kc3M-5F2apg_Pq8Yo6PAptFn5rKjk-",
      "authorship_tag": "ABX9TyMdzjLRTLsEaZV2C2l9uqXx",
      "include_colab_link": true
    },
    "kernelspec": {
      "name": "python3",
      "display_name": "Python 3"
    },
    "language_info": {
      "name": "python"
    }
  },
  "cells": [
    {
      "cell_type": "markdown",
      "metadata": {
        "id": "view-in-github",
        "colab_type": "text"
      },
      "source": [
        "<a href=\"https://colab.research.google.com/github/alina-bogdanovskaya/PyTorch_Jan2023/blob/lesson7/HW07.ipynb\" target=\"_parent\"><img src=\"https://colab.research.google.com/assets/colab-badge.svg\" alt=\"Open In Colab\"/></a>"
      ]
    },
    {
      "cell_type": "code",
      "execution_count": 3,
      "metadata": {
        "id": "Zvhx9PYe3zpN"
      },
      "outputs": [],
      "source": [
        "import torch\n",
        "import torch.nn as nn\n",
        "import torch.nn.functional as F\n",
        "from torch.utils.data import DataLoader, Dataset\n",
        "import numpy as np\n",
        "import pandas as pd\n",
        "import nltk\n",
        "from string import punctuation\n",
        "from nltk.corpus import stopwords\n",
        "from nltk.stem import WordNetLemmatizer\n",
        "import re\n",
        "import matplotlib.pyplot as plt\n",
        "from sklearn.model_selection import train_test_split"
      ]
    },
    {
      "cell_type": "code",
      "source": [
        "DATA_PATH = '/content/drive/MyDrive/GB/PyTorch/twitter_sentiment'\n",
        "train_df = pd.read_csv(DATA_PATH + '/train.csv')\n",
        "test_df = pd.read_csv(DATA_PATH + '/test.csv')"
      ],
      "metadata": {
        "id": "8DSYHLbW4Ot5"
      },
      "execution_count": 4,
      "outputs": []
    },
    {
      "cell_type": "code",
      "source": [
        "def num_of_words(df):\n",
        "    df['word_count'] = df['tweet'].apply(lambda x : len(str(x).split(\" \")))\n",
        "    \n",
        "def num_of_chars(df):\n",
        "    df['char_count'] = df['tweet'].str.len() ## this also includes spaces\n",
        "    "
      ],
      "metadata": {
        "id": "8eCca3HTnRqO"
      },
      "execution_count": 5,
      "outputs": []
    },
    {
      "cell_type": "code",
      "source": [
        "nltk.download('wordnet')\n",
        "nltk.download('omw-1.4')\n",
        "nltk.download(\"punkt\")\n",
        "nltk.download('stopwords')\n",
        "\n",
        "lemmatizer = WordNetLemmatizer()\n",
        "sw_nltk = stopwords.words('english')"
      ],
      "metadata": {
        "colab": {
          "base_uri": "https://localhost:8080/"
        },
        "id": "5ipwXnCr_0vU",
        "outputId": "374c4e83-1183-4c2c-c395-3c8a4cd1aac4"
      },
      "execution_count": 8,
      "outputs": [
        {
          "output_type": "stream",
          "name": "stderr",
          "text": [
            "[nltk_data] Downloading package wordnet to /root/nltk_data...\n",
            "[nltk_data]   Package wordnet is already up-to-date!\n",
            "[nltk_data] Downloading package omw-1.4 to /root/nltk_data...\n",
            "[nltk_data]   Package omw-1.4 is already up-to-date!\n",
            "[nltk_data] Downloading package punkt to /root/nltk_data...\n",
            "[nltk_data]   Package punkt is already up-to-date!\n",
            "[nltk_data] Downloading package stopwords to /root/nltk_data...\n",
            "[nltk_data]   Package stopwords is already up-to-date!\n"
          ]
        }
      ]
    },
    {
      "cell_type": "code",
      "source": [
        "train_df, val_df = train_test_split(train_df, test_size=0.2, random_state=6543)"
      ],
      "metadata": {
        "id": "eKBZAjUZ7YiP"
      },
      "execution_count": 11,
      "outputs": []
    },
    {
      "cell_type": "code",
      "source": [
        "def preprocess_text(txt):\n",
        "    txt = txt.replace('@user ', '')\n",
        "    for symbol in punctuation:\n",
        "        txt = txt.replace(symbol, ' ')\n",
        "    txt = txt.lower()\n",
        "    txt = [word for word in txt if (word.isalnum() or word.isspace()) and not word.isdigit()]\n",
        "    txt = \"\".join(txt)\n",
        "    txt = [word for word in txt.split() if word not in sw_nltk]\n",
        "    txt = [*map(lemmatizer.lemmatize, txt)]\n",
        "    txt = [word for word in txt if len(word) > 2]\n",
        "    txt = \" \".join(txt)\n",
        "    \n",
        "    return txt\n"
      ],
      "metadata": {
        "id": "EVo6wDqDAQsG"
      },
      "execution_count": 12,
      "outputs": []
    },
    {
      "cell_type": "code",
      "source": [
        "train_df['tweet'].iloc[:1].values"
      ],
      "metadata": {
        "colab": {
          "base_uri": "https://localhost:8080/"
        },
        "id": "tJsHcs-8AdeL",
        "outputId": "aafd43b3-1cdb-49dc-c971-04192c1cc8b8"
      },
      "execution_count": 13,
      "outputs": [
        {
          "output_type": "execute_result",
          "data": {
            "text/plain": [
              "array(['herbal sleep remedies that work!!  #altwaystoheal #healthy #healing   !! '],\n",
              "      dtype=object)"
            ]
          },
          "metadata": {},
          "execution_count": 13
        }
      ]
    },
    {
      "cell_type": "code",
      "source": [
        "train_df['tweet'].iloc[:1].apply(preprocess_text).values"
      ],
      "metadata": {
        "colab": {
          "base_uri": "https://localhost:8080/"
        },
        "id": "tfzPt1-3AufV",
        "outputId": "0a6b8513-2076-4e7e-fdd6-e9129c22cbd8"
      },
      "execution_count": 14,
      "outputs": [
        {
          "output_type": "execute_result",
          "data": {
            "text/plain": [
              "array(['herbal sleep remedy work altwaystoheal healthy healing'],\n",
              "      dtype=object)"
            ]
          },
          "metadata": {},
          "execution_count": 14
        }
      ]
    },
    {
      "cell_type": "code",
      "source": [
        "from tqdm import tqdm\n",
        "tqdm.pandas()\n",
        "\n",
        "train_df.tweet = train_df.tweet.progress_apply(preprocess_text)\n",
        "val_df.tweet = val_df.tweet.progress_apply(preprocess_text)"
      ],
      "metadata": {
        "colab": {
          "base_uri": "https://localhost:8080/"
        },
        "id": "HE8xJnfoE0cb",
        "outputId": "4c528bff-e404-47b3-fe08-a6b7490db4bd"
      },
      "execution_count": 15,
      "outputs": [
        {
          "output_type": "stream",
          "name": "stderr",
          "text": [
            "100%|██████████| 20455/20455 [00:01<00:00, 10957.70it/s]\n",
            "100%|██████████| 5114/5114 [00:00<00:00, 10420.71it/s]\n"
          ]
        }
      ]
    },
    {
      "cell_type": "code",
      "source": [
        "train_corpus = ' '.join(train_df.tweet)\n",
        "train_corpus = train_corpus.lower()"
      ],
      "metadata": {
        "id": "5G3apQzdI89U"
      },
      "execution_count": 16,
      "outputs": []
    },
    {
      "cell_type": "code",
      "source": [
        "from nltk.tokenize import word_tokenize\n",
        "\n",
        "tokens = word_tokenize(train_corpus)\n",
        "tokens[:9]"
      ],
      "metadata": {
        "colab": {
          "base_uri": "https://localhost:8080/"
        },
        "id": "ixhIgHdcKKYM",
        "outputId": "9f39d513-babd-4791-da3a-dde0e5eff647"
      },
      "execution_count": 17,
      "outputs": [
        {
          "output_type": "execute_result",
          "data": {
            "text/plain": [
              "['herbal',\n",
              " 'sleep',\n",
              " 'remedy',\n",
              " 'work',\n",
              " 'altwaystoheal',\n",
              " 'healthy',\n",
              " 'healing',\n",
              " 'arrive',\n",
              " 'cold']"
            ]
          },
          "metadata": {},
          "execution_count": 17
        }
      ]
    },
    {
      "cell_type": "code",
      "source": [
        "num_of_words(train_df)"
      ],
      "metadata": {
        "id": "iw2o5JS6nnoe"
      },
      "execution_count": 18,
      "outputs": []
    },
    {
      "cell_type": "code",
      "source": [
        "num_of_chars(train_df)"
      ],
      "metadata": {
        "id": "ruzLGS4Cn0Ew"
      },
      "execution_count": 19,
      "outputs": []
    },
    {
      "cell_type": "code",
      "source": [
        "max_words = 4000\n",
        "max_len = 55\n",
        "num_classes = 1\n",
        "\n",
        "batch_size = 256\n",
        "print_batch_n = 100"
      ],
      "metadata": {
        "id": "MW2U8O8G5NV-"
      },
      "execution_count": 20,
      "outputs": []
    },
    {
      "cell_type": "code",
      "source": [
        "from nltk.probability import FreqDist\n",
        "\n",
        "dist = FreqDist([word for word in tokens if word.isalnum()])\n",
        "tokens_filtered_top = [pair[0] for pair in dist.most_common(max_words-1)]  # вычитание 1 для padding\n",
        "len(tokens_filtered_top)"
      ],
      "metadata": {
        "colab": {
          "base_uri": "https://localhost:8080/"
        },
        "id": "KP8k6RpxL2rl",
        "outputId": "eb0d530f-d475-4cb2-8767-13f09e9a7c78"
      },
      "execution_count": 21,
      "outputs": [
        {
          "output_type": "execute_result",
          "data": {
            "text/plain": [
              "3999"
            ]
          },
          "metadata": {},
          "execution_count": 21
        }
      ]
    },
    {
      "cell_type": "code",
      "source": [
        "vocab = {v: k for k, v in dict(enumerate(tokens_filtered_top, 1)).items()}"
      ],
      "metadata": {
        "id": "DzYdUD4eM-aW"
      },
      "execution_count": 22,
      "outputs": []
    },
    {
      "cell_type": "code",
      "source": [
        "def text_to_sequence(text, maxlen):\n",
        "    result = []\n",
        "    tokens = word_tokenize(text.lower())\n",
        "    tokens_filtered = [word for word in tokens if word.isalnum()]\n",
        "    for word in tokens_filtered:\n",
        "        if word in vocab:\n",
        "            result.append(vocab[word])\n",
        "\n",
        "    padding = [0] * (maxlen-len(result))\n",
        "    return result[-maxlen:] + padding"
      ],
      "metadata": {
        "id": "F4aZWPt3NKRH"
      },
      "execution_count": 23,
      "outputs": []
    },
    {
      "cell_type": "code",
      "source": [
        "x_train = np.asarray([text_to_sequence(text, max_len) for text in train_df.tweet])\n",
        "x_val = np.asarray([text_to_sequence(text, max_len) for text in val_df.tweet])"
      ],
      "metadata": {
        "id": "vXg6SYx0Nq7i"
      },
      "execution_count": 24,
      "outputs": []
    },
    {
      "cell_type": "code",
      "source": [
        "from imblearn.over_sampling import SMOTE\n",
        "\n",
        "smt = SMOTE(random_state=42, k_neighbors=1)\n",
        "x_train, y_train = smt.fit_resample(x_train, train_df.label)\n",
        "y_train = np.asarray(y_train)\n",
        "# y_train = np.asarray(train_df.label)"
      ],
      "metadata": {
        "id": "oZnJmCkX2Bjp"
      },
      "execution_count": 25,
      "outputs": []
    },
    {
      "cell_type": "code",
      "source": [
        "class DataWrapper(Dataset):\n",
        "    def __init__(self, data, target, transform=None):\n",
        "        self.data = torch.from_numpy(data).long()\n",
        "        self.target = torch.from_numpy(target).long()\n",
        "        self.transform = transform\n",
        "        \n",
        "    def __getitem__(self, index):\n",
        "        x = self.data[index]\n",
        "        y = self.target[index]\n",
        "        \n",
        "        if self.transform:\n",
        "            x = self.transform(x)\n",
        "            \n",
        "        return x, y\n",
        "    \n",
        "    def __len__(self):\n",
        "        return len(self.data)"
      ],
      "metadata": {
        "id": "AWM9LxhfSqRS"
      },
      "execution_count": 26,
      "outputs": []
    },
    {
      "cell_type": "code",
      "source": [
        "train_ds = DataWrapper(x_train, y_train)\n",
        "train_dl = DataLoader(train_ds, batch_size=batch_size, shuffle=True)\n",
        "\n",
        "val_ds = DataWrapper(x_val, val_df.label.values)\n",
        "val_dl = DataLoader(val_ds, batch_size=8, shuffle=True)"
      ],
      "metadata": {
        "id": "8OigdEwQTKZr"
      },
      "execution_count": 27,
      "outputs": []
    },
    {
      "cell_type": "code",
      "source": [
        "device = 'cuda' if torch.cuda.is_available() else 'cpu'\n",
        "device"
      ],
      "metadata": {
        "colab": {
          "base_uri": "https://localhost:8080/",
          "height": 35
        },
        "id": "A-hH5TuPUCWq",
        "outputId": "b3914d22-3722-4412-eebf-359d201c6def"
      },
      "execution_count": 28,
      "outputs": [
        {
          "output_type": "execute_result",
          "data": {
            "text/plain": [
              "'cpu'"
            ],
            "application/vnd.google.colaboratory.intrinsic+json": {
              "type": "string"
            }
          },
          "metadata": {},
          "execution_count": 28
        }
      ]
    },
    {
      "cell_type": "code",
      "source": [
        "class LSTMFixedLen(nn.Module) :\n",
        "    def __init__(self, vocab_size, embedding_dim=128, hidden_dim=128, use_last=True):\n",
        "        super().__init__()\n",
        "        self.use_last = use_last\n",
        "        self.embeddings = nn.Embedding(vocab_size, embedding_dim, padding_idx=0)\n",
        "        self.lstm = nn.LSTM(embedding_dim, hidden_dim, num_layers=2, batch_first=True)\n",
        "        self.linear = nn.Linear(hidden_dim, 1)\n",
        "        self.dropout = nn.Dropout(0.2)\n",
        "        \n",
        "    def forward(self, x):\n",
        "        x = self.embeddings(x)\n",
        "        x = self.dropout(x)\n",
        "        lstm_out, ht = self.lstm(x)\n",
        "       \n",
        "        if self.use_last:\n",
        "            last_tensor = lstm_out[:,-1,:]\n",
        "        else:\n",
        "            # use mean\n",
        "            last_tensor = torch.mean(lstm_out[:,:], dim=1)\n",
        "    \n",
        "        out = self.linear(last_tensor)\n",
        "        # print(out.shape)\n",
        "        return torch.sigmoid(out)"
      ],
      "metadata": {
        "id": "mIQQUyhwS2EG"
      },
      "execution_count": 29,
      "outputs": []
    },
    {
      "cell_type": "code",
      "source": [
        "lstm_init = LSTMFixedLen(max_words, 128, 20, use_last=False)\n",
        "optimizer = torch.optim.Adam(lstm_init.parameters(), lr=0.001)\n",
        "criterion = nn.BCELoss()"
      ],
      "metadata": {
        "id": "3n0Wh3Z_TATT"
      },
      "execution_count": 30,
      "outputs": []
    },
    {
      "cell_type": "code",
      "source": [
        "epochs = 20\n",
        "\n",
        "model = lstm_init\n",
        "model = model.to(device)\n",
        "model.train()\n",
        "th = 0.5\n",
        "\n",
        "train_loss_history = []\n",
        "test_loss_history = []\n",
        "\n",
        "\n",
        "for epoch in range(epochs):  \n",
        "    running_loss, running_items, running_right, batches = 0.0, 0.0, 0.0, 0.0\n",
        "    for i, data in enumerate(train_dl, 0):\n",
        "        inputs, labels = data[0].to(device), data[1].to(device)\n",
        "        \n",
        "        # обнуляем градиент\n",
        "        optimizer.zero_grad()\n",
        "        outputs = model(inputs)\n",
        "        \n",
        "        loss = criterion(outputs, labels.float().view(-1, 1))\n",
        "        running_loss += loss.item()\n",
        "        batches += 1\n",
        "        loss.backward()\n",
        "        optimizer.step()\n",
        "\n",
        "        # подсчет ошибки на обучении\n",
        "        loss = loss.item()\n",
        "        running_items += len(labels)\n",
        "        # подсчет метрики на обучении\n",
        "        pred_labels = torch.squeeze((outputs > th).int())\n",
        "        running_right += (labels == pred_labels).sum()\n",
        "        \n",
        "    # выводим статистику о процессе обучения\n",
        "    model.eval()\n",
        "    \n",
        "    print(f'Epoch [{epoch + 1}/{epochs}]. ' \\\n",
        "            f'Step [{i + 1}/{len(train_dl)}]. ' \\\n",
        "            f'Loss: {running_loss / batches:.3f}. ' \\\n",
        "            f'Acc: {running_right / running_items:.3f}', end='. ')\n",
        "    train_loss_history.append(running_loss / batches)\n",
        "\n",
        "        # выводим статистику на тестовых данных\n",
        "    test_running_right, test_running_total, test_running_loss, batches = 0.0, 0.0, 0.0, 0.0\n",
        "    for j, data in enumerate(val_dl):\n",
        "        test_labels = data[1].to(device)\n",
        "        test_outputs = model(data[0].to(device))\n",
        "        \n",
        "        # подсчет ошибки на тесте\n",
        "        test_loss = criterion(test_outputs, test_labels.float().view(-1, 1))\n",
        "        test_running_loss += test_loss.item()\n",
        "        batches += 1\n",
        "        # подсчет метрики на тесте\n",
        "        test_running_total += len(data[1])\n",
        "        pred_test_labels = torch.squeeze((test_outputs > th).int())\n",
        "        test_running_right += (test_labels == pred_test_labels).sum()\n",
        "    \n",
        "    test_loss_history.append(test_running_loss / batches)\n",
        "    print(f'Test loss: {test_running_loss / batches:.3f}. Test acc: {test_running_right / test_running_total:.3f}')\n",
        "    \n",
        "    model.train()\n",
        "        \n",
        "print('Training is finished!')"
      ],
      "metadata": {
        "colab": {
          "base_uri": "https://localhost:8080/"
        },
        "id": "mxXd51qaUOF0",
        "outputId": "de45135d-ac8c-4a8b-c5db-464eb8f4f729"
      },
      "execution_count": 31,
      "outputs": [
        {
          "output_type": "stream",
          "name": "stdout",
          "text": [
            "Epoch [1/20]. Step [149/149]. Loss: 0.664. Acc: 0.575. Test loss: 0.581. Test acc: 0.821\n",
            "Epoch [2/20]. Step [149/149]. Loss: 0.581. Acc: 0.679. Test loss: 0.480. Test acc: 0.816\n",
            "Epoch [3/20]. Step [149/149]. Loss: 0.542. Acc: 0.713. Test loss: 0.448. Test acc: 0.852\n",
            "Epoch [4/20]. Step [149/149]. Loss: 0.517. Acc: 0.728. Test loss: 0.426. Test acc: 0.831\n",
            "Epoch [5/20]. Step [149/149]. Loss: 0.502. Acc: 0.741. Test loss: 0.436. Test acc: 0.830\n",
            "Epoch [6/20]. Step [149/149]. Loss: 0.483. Acc: 0.754. Test loss: 0.443. Test acc: 0.821\n",
            "Epoch [7/20]. Step [149/149]. Loss: 0.471. Acc: 0.761. Test loss: 0.436. Test acc: 0.845\n",
            "Epoch [8/20]. Step [149/149]. Loss: 0.458. Acc: 0.769. Test loss: 0.476. Test acc: 0.775\n",
            "Epoch [9/20]. Step [149/149]. Loss: 0.445. Acc: 0.776. Test loss: 0.390. Test acc: 0.854\n",
            "Epoch [10/20]. Step [149/149]. Loss: 0.434. Acc: 0.788. Test loss: 0.422. Test acc: 0.807\n",
            "Epoch [11/20]. Step [149/149]. Loss: 0.421. Acc: 0.794. Test loss: 0.378. Test acc: 0.854\n",
            "Epoch [12/20]. Step [149/149]. Loss: 0.413. Acc: 0.801. Test loss: 0.417. Test acc: 0.816\n",
            "Epoch [13/20]. Step [149/149]. Loss: 0.399. Acc: 0.810. Test loss: 0.345. Test acc: 0.882\n",
            "Epoch [14/20]. Step [149/149]. Loss: 0.390. Acc: 0.814. Test loss: 0.342. Test acc: 0.886\n",
            "Epoch [15/20]. Step [149/149]. Loss: 0.376. Acc: 0.825. Test loss: 0.344. Test acc: 0.879\n",
            "Epoch [16/20]. Step [149/149]. Loss: 0.368. Acc: 0.828. Test loss: 0.323. Test acc: 0.890\n",
            "Epoch [17/20]. Step [149/149]. Loss: 0.360. Acc: 0.832. Test loss: 0.354. Test acc: 0.866\n",
            "Epoch [18/20]. Step [149/149]. Loss: 0.349. Acc: 0.840. Test loss: 0.395. Test acc: 0.837\n",
            "Epoch [19/20]. Step [149/149]. Loss: 0.339. Acc: 0.847. Test loss: 0.423. Test acc: 0.818\n",
            "Epoch [20/20]. Step [149/149]. Loss: 0.331. Acc: 0.851. Test loss: 0.375. Test acc: 0.853\n",
            "Training is finished!\n"
          ]
        }
      ]
    },
    {
      "cell_type": "code",
      "source": [
        "plt.title('Loss history')\n",
        "plt.grid(True)\n",
        "plt.ylabel('Loss')\n",
        "plt.xlabel('Epoch')\n",
        "plt.plot(train_loss_history, label='train')\n",
        "plt.plot(test_loss_history, label='test')\n",
        "plt.legend();"
      ],
      "metadata": {
        "colab": {
          "base_uri": "https://localhost:8080/",
          "height": 295
        },
        "id": "OL2JpfZNUlCO",
        "outputId": "4c294fbf-89fa-43d4-ac9a-84ea903c8181"
      },
      "execution_count": 32,
      "outputs": [
        {
          "output_type": "display_data",
          "data": {
            "text/plain": [
              "<Figure size 432x288 with 1 Axes>"
            ],
            "image/png": "[encoded data removed]"
          },
          "metadata": {
            "needs_background": "light"
          }
        }
      ]
    },
    {
      "cell_type": "code",
      "source": [
        "class GRUFixedLen(nn.Module) :\n",
        "    def __init__(self, vocab_size, embedding_dim=128, hidden_dim=128, use_last=True):\n",
        "        super().__init__()\n",
        "        self.use_last = use_last\n",
        "        self.embeddings = nn.Embedding(vocab_size, embedding_dim, padding_idx=0)\n",
        "        self.gru = nn.GRU(embedding_dim, hidden_dim, num_layers=2, batch_first=True, )\n",
        "        self.linear = nn.Linear(hidden_dim, 1)\n",
        "        self.dropout = nn.Dropout(0.2)\n",
        "        \n",
        "    def forward(self, x):\n",
        "        x = self.embeddings(x)\n",
        "        x = self.dropout(x)\n",
        "        gru_out, ht = self.gru(x)\n",
        "       \n",
        "        if self.use_last:\n",
        "            last_tensor = gru_out[:,-1,:]\n",
        "        else:\n",
        "            # use mean\n",
        "            last_tensor = torch.mean(gru_out[:,:], dim=1)\n",
        "    \n",
        "        out = self.linear(last_tensor)\n",
        "        return torch.sigmoid(out)"
      ],
      "metadata": {
        "id": "z6st8bHhWK_F"
      },
      "execution_count": 33,
      "outputs": []
    },
    {
      "cell_type": "code",
      "source": [
        "gru_init = GRUFixedLen(max_words, 128, 20, use_last=False)\n",
        "optimizer = torch.optim.Adam(gru_init.parameters(), lr=0.001)\n",
        "criterion = nn.BCELoss()"
      ],
      "metadata": {
        "id": "BKN-isyNWNF-"
      },
      "execution_count": 34,
      "outputs": []
    },
    {
      "cell_type": "code",
      "source": [
        "epochs = 20\n",
        "\n",
        "model = gru_init\n",
        "model = model.to(device)\n",
        "model.train()\n",
        "th = 0.5\n",
        "\n",
        "train_loss_history = []\n",
        "test_loss_history = []\n",
        "\n",
        "\n",
        "for epoch in range(epochs):  \n",
        "    running_loss, running_items, running_right, batches = 0.0, 0.0, 0.0, 0.0\n",
        "    for i, data in enumerate(train_dl, 0):\n",
        "        inputs, labels = data[0].to(device), data[1].to(device)\n",
        "        \n",
        "        # обнуляем градиент\n",
        "        optimizer.zero_grad()\n",
        "        outputs = model(inputs)\n",
        "        \n",
        "        loss = criterion(outputs, labels.float().view(-1, 1))\n",
        "        running_loss += loss.item()\n",
        "        batches += 1\n",
        "        loss.backward()\n",
        "        optimizer.step()\n",
        "\n",
        "        # подсчет ошибки на обучении\n",
        "        loss = loss.item()\n",
        "        running_items += len(labels)\n",
        "        # подсчет метрики на обучении\n",
        "        pred_labels = torch.squeeze((outputs > th).int())\n",
        "        running_right += (labels == pred_labels).sum()\n",
        "        \n",
        "    # выводим статистику о процессе обучения\n",
        "    model.eval()\n",
        "    \n",
        "    print(f'Epoch [{epoch + 1}/{epochs}]. ' \\\n",
        "            f'Step [{i + 1}/{len(train_dl)}]. ' \\\n",
        "            f'Loss: {running_loss / batches:.3f}. ' \\\n",
        "            f'Acc: {running_right / running_items:.3f}', end='. ')\n",
        "    train_loss_history.append(running_loss / batches)\n",
        "\n",
        "        # выводим статистику на тестовых данных\n",
        "    test_running_right, test_running_total, test_running_loss, batches = 0.0, 0.0, 0.0, 0.0\n",
        "    for j, data in enumerate(val_dl):\n",
        "        test_labels = data[1].to(device)\n",
        "        test_outputs = model(data[0].to(device))\n",
        "        \n",
        "        # подсчет ошибки на тесте\n",
        "        test_loss = criterion(test_outputs, test_labels.float().view(-1, 1))\n",
        "        test_running_loss += test_loss.item()\n",
        "        batches += 1\n",
        "        # подсчет метрики на тесте\n",
        "        test_running_total += len(data[1])\n",
        "        pred_test_labels = torch.squeeze((test_outputs > th).int())\n",
        "        test_running_right += (test_labels == pred_test_labels).sum()\n",
        "    \n",
        "    test_loss_history.append(test_running_loss / batches)\n",
        "    print(f'Test loss: {test_running_loss / batches:.3f}. Test acc: {test_running_right / test_running_total:.3f}')\n",
        "    \n",
        "    model.train()\n",
        "        \n",
        "print('Training is finished!')"
      ],
      "metadata": {
        "colab": {
          "base_uri": "https://localhost:8080/"
        },
        "id": "1X3wCddtWUTm",
        "outputId": "ae760653-1beb-413b-8105-2b777c15bcd4"
      },
      "execution_count": 35,
      "outputs": [
        {
          "output_type": "stream",
          "name": "stdout",
          "text": [
            "Epoch [1/20]. Step [149/149]. Loss: 0.660. Acc: 0.597. Test loss: 0.544. Test acc: 0.805\n",
            "Epoch [2/20]. Step [149/149]. Loss: 0.566. Acc: 0.694. Test loss: 0.429. Test acc: 0.861\n",
            "Epoch [3/20]. Step [149/149]. Loss: 0.525. Acc: 0.724. Test loss: 0.402. Test acc: 0.863\n",
            "Epoch [4/20]. Step [149/149]. Loss: 0.500. Acc: 0.742. Test loss: 0.403. Test acc: 0.844\n",
            "Epoch [5/20]. Step [149/149]. Loss: 0.480. Acc: 0.756. Test loss: 0.427. Test acc: 0.821\n",
            "Epoch [6/20]. Step [149/149]. Loss: 0.465. Acc: 0.766. Test loss: 0.421. Test acc: 0.820\n",
            "Epoch [7/20]. Step [149/149]. Loss: 0.447. Acc: 0.776. Test loss: 0.408. Test acc: 0.822\n",
            "Epoch [8/20]. Step [149/149]. Loss: 0.436. Acc: 0.785. Test loss: 0.408. Test acc: 0.825\n",
            "Epoch [9/20]. Step [149/149]. Loss: 0.422. Acc: 0.790. Test loss: 0.403. Test acc: 0.827\n",
            "Epoch [10/20]. Step [149/149]. Loss: 0.410. Acc: 0.799. Test loss: 0.395. Test acc: 0.827\n",
            "Epoch [11/20]. Step [149/149]. Loss: 0.396. Acc: 0.809. Test loss: 0.401. Test acc: 0.829\n",
            "Epoch [12/20]. Step [149/149]. Loss: 0.387. Acc: 0.814. Test loss: 0.350. Test acc: 0.859\n",
            "Epoch [13/20]. Step [149/149]. Loss: 0.372. Acc: 0.823. Test loss: 0.358. Test acc: 0.851\n",
            "Epoch [14/20]. Step [149/149]. Loss: 0.364. Acc: 0.828. Test loss: 0.375. Test acc: 0.845\n",
            "Epoch [15/20]. Step [149/149]. Loss: 0.352. Acc: 0.835. Test loss: 0.379. Test acc: 0.836\n",
            "Epoch [16/20]. Step [149/149]. Loss: 0.343. Acc: 0.840. Test loss: 0.421. Test acc: 0.818\n",
            "Epoch [17/20]. Step [149/149]. Loss: 0.338. Acc: 0.841. Test loss: 0.328. Test acc: 0.867\n",
            "Epoch [18/20]. Step [149/149]. Loss: 0.328. Acc: 0.849. Test loss: 0.380. Test acc: 0.841\n",
            "Epoch [19/20]. Step [149/149]. Loss: 0.319. Acc: 0.854. Test loss: 0.360. Test acc: 0.850\n",
            "Epoch [20/20]. Step [149/149]. Loss: 0.315. Acc: 0.856. Test loss: 0.382. Test acc: 0.840\n",
            "Training is finished!\n"
          ]
        }
      ]
    },
    {
      "cell_type": "code",
      "source": [
        "plt.title('Loss history')\n",
        "plt.grid(True)\n",
        "plt.ylabel('Loss')\n",
        "plt.xlabel('Epoch')\n",
        "plt.plot(train_loss_history, label='train')\n",
        "plt.plot(test_loss_history, label='test')\n",
        "plt.legend();"
      ],
      "metadata": {
        "colab": {
          "base_uri": "https://localhost:8080/",
          "height": 295
        },
        "id": "Ph712PB5XKuc",
        "outputId": "793ea297-6244-416b-e1fe-fa7579eb09c0"
      },
      "execution_count": 36,
      "outputs": [
        {
          "output_type": "display_data",
          "data": {
            "text/plain": [
              "<Figure size 432x288 with 1 Axes>"
            ],
            "image/png": "[encoded data removed]"
          },
          "metadata": {
            "needs_background": "light"
          }
        }
      ]
    }
  ]
}