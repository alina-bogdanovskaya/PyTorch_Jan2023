{
  "cells": [
    {
      "cell_type": "markdown",
      "metadata": {
        "id": "view-in-github",
        "colab_type": "text"
      },
      "source": [
        "<a href=\"https://colab.research.google.com/github/alina-bogdanovskaya/PyTorch_Jan2023/blob/lesson1/HW_01.ipynb\" target=\"_parent\"><img src=\"https://colab.research.google.com/assets/colab-badge.svg\" alt=\"Open In Colab\"/></a>"
      ]
    },
    {
      "cell_type": "code",
      "execution_count": 1,
      "metadata": {
        "id": "HzLAv6XFzCRC"
      },
      "outputs": [],
      "source": [
        "import torch"
      ]
    },
    {
      "cell_type": "code",
      "execution_count": 2,
      "metadata": {
        "colab": {
          "base_uri": "https://localhost:8080/"
        },
        "id": "bfOaQxBzzCRF",
        "outputId": "1617ffc6-8657-4f11-9147-bd93747b62a9"
      },
      "outputs": [
        {
          "output_type": "execute_result",
          "data": {
            "text/plain": [
              "tensor([[[-0.6057,  1.4292,  0.4652,  0.4326,  1.1830],\n",
              "         [-0.8155,  1.3425,  0.9244,  0.8257,  0.9105],\n",
              "         [-0.3182, -0.1888, -0.2793, -1.4429, -0.4955],\n",
              "         [ 0.4081,  0.2646,  0.4574, -1.5905,  1.1968]],\n",
              "\n",
              "        [[ 0.2812,  0.4932, -1.1802, -1.6174,  2.1825],\n",
              "         [-0.1643, -0.5651, -1.7443, -1.0873, -0.1597],\n",
              "         [ 1.1220,  0.5330, -1.5163, -0.8565,  0.9490],\n",
              "         [-0.0584, -0.9013, -0.6493,  0.8205,  0.2689]],\n",
              "\n",
              "        [[ 1.5146,  0.6689, -2.4208,  0.4443, -1.6283],\n",
              "         [ 0.9775,  0.0477,  0.3604, -0.2757,  1.9356],\n",
              "         [-0.0843, -1.7205, -0.9844,  0.0768, -0.1071],\n",
              "         [ 0.3174, -2.2923, -0.2625,  0.8361,  0.8121]]])"
            ]
          },
          "metadata": {},
          "execution_count": 2
        }
      ],
      "source": [
        "# Создайте случайный FloatTensor размера 3x4x5\n",
        "a_tensor = torch.randn(size=(3, 4, 5))\n",
        "a_tensor"
      ]
    },
    {
      "cell_type": "code",
      "execution_count": 3,
      "metadata": {
        "colab": {
          "base_uri": "https://localhost:8080/"
        },
        "id": "oYFoVfFWzCRG",
        "outputId": "1eab1736-9970-40dd-8825-31e794cd69c9"
      },
      "outputs": [
        {
          "output_type": "execute_result",
          "data": {
            "text/plain": [
              "torch.Size([3, 4, 5])"
            ]
          },
          "metadata": {},
          "execution_count": 3
        }
      ],
      "source": [
        "# Выведите его форму (shape)\n",
        "a_tensor.shape"
      ]
    },
    {
      "cell_type": "code",
      "execution_count": 4,
      "metadata": {
        "colab": {
          "base_uri": "https://localhost:8080/"
        },
        "id": "aT2v3RhgzCRH",
        "outputId": "23a77d73-2ece-42d3-9373-2478be925fe4"
      },
      "outputs": [
        {
          "output_type": "execute_result",
          "data": {
            "text/plain": [
              "tensor([[-0.6057,  1.4292,  0.4652,  0.4326,  1.1830, -0.8155,  1.3425,  0.9244,\n",
              "          0.8257,  0.9105],\n",
              "        [-0.3182, -0.1888, -0.2793, -1.4429, -0.4955,  0.4081,  0.2646,  0.4574,\n",
              "         -1.5905,  1.1968],\n",
              "        [ 0.2812,  0.4932, -1.1802, -1.6174,  2.1825, -0.1643, -0.5651, -1.7443,\n",
              "         -1.0873, -0.1597],\n",
              "        [ 1.1220,  0.5330, -1.5163, -0.8565,  0.9490, -0.0584, -0.9013, -0.6493,\n",
              "          0.8205,  0.2689],\n",
              "        [ 1.5146,  0.6689, -2.4208,  0.4443, -1.6283,  0.9775,  0.0477,  0.3604,\n",
              "         -0.2757,  1.9356],\n",
              "        [-0.0843, -1.7205, -0.9844,  0.0768, -0.1071,  0.3174, -2.2923, -0.2625,\n",
              "          0.8361,  0.8121]])"
            ]
          },
          "metadata": {},
          "execution_count": 4
        }
      ],
      "source": [
        "# Приведите его к форме 6 X 10\n",
        "b_tensor = a_tensor.reshape(6, 10)\n",
        "b_tensor"
      ]
    },
    {
      "cell_type": "code",
      "source": [
        "b_tensor.shape"
      ],
      "metadata": {
        "colab": {
          "base_uri": "https://localhost:8080/"
        },
        "id": "ACIvZvNY2faC",
        "outputId": "9eebe3bd-a76b-4f54-b9b1-d6ed96d5256b"
      },
      "execution_count": 5,
      "outputs": [
        {
          "output_type": "execute_result",
          "data": {
            "text/plain": [
              "torch.Size([6, 10])"
            ]
          },
          "metadata": {},
          "execution_count": 5
        }
      ]
    },
    {
      "cell_type": "code",
      "execution_count": 7,
      "metadata": {
        "colab": {
          "base_uri": "https://localhost:8080/"
        },
        "id": "iQpX5T9jzCRH",
        "outputId": "423b106b-b4ac-4e40-e238-3f77b6beb0a2"
      },
      "outputs": [
        {
          "output_type": "execute_result",
          "data": {
            "text/plain": [
              "tensor([[[-0.6057,  5.7167,  0.9303,  0.8651,  1.1830],\n",
              "         [-0.8155,  5.3699,  1.8488,  1.6514,  0.9105],\n",
              "         [-0.3182, -0.7552, -0.5587, -2.8857, -0.4955],\n",
              "         [ 0.4081,  1.0585,  0.9148, -3.1811,  1.1968]],\n",
              "\n",
              "        [[ 0.2812,  1.9728, -2.3605, -3.2348,  2.1825],\n",
              "         [-0.1643, -2.2604, -3.4886, -2.1745, -0.1597],\n",
              "         [ 1.1220,  2.1321, -3.0327, -1.7129,  0.9490],\n",
              "         [-0.0584, -3.6054, -1.2986,  1.6411,  0.2689]],\n",
              "\n",
              "        [[ 1.5146,  2.6754, -4.8416,  0.8886, -1.6283],\n",
              "         [ 0.9775,  0.1906,  0.7209, -0.5515,  1.9356],\n",
              "         [-0.0843, -6.8821, -1.9687,  0.1536, -0.1071],\n",
              "         [ 0.3174, -9.1691, -0.5250,  1.6723,  0.8121]]])"
            ]
          },
          "metadata": {},
          "execution_count": 7
        }
      ],
      "source": [
        "# Умножьте его на вектор [1, 4, 2, 2, 1] поэлементно\n",
        "c_vector = torch.IntTensor([1, 4, 2, 2, 1])\n",
        "a_tensor * c_vector"
      ]
    },
    {
      "cell_type": "code",
      "execution_count": 8,
      "metadata": {
        "colab": {
          "base_uri": "https://localhost:8080/"
        },
        "id": "n-jhi7XnzCRH",
        "outputId": "9b427428-8ff3-47cb-a9c9-99175a99300a"
      },
      "outputs": [
        {
          "output_type": "execute_result",
          "data": {
            "text/plain": [
              "tensor([[ 9.0450, -1.1957, -1.4124, -0.7112, -1.6870, -5.1082],\n",
              "        [-1.1957,  6.9504,  1.9230, -0.8112,  3.5654, -0.3862],\n",
              "        [-1.4124,  1.9230, 13.6912,  6.5410, -1.4852,  0.5938],\n",
              "        [-0.7112, -0.8112,  6.5410,  7.4594,  3.7609,  3.4361],\n",
              "        [-1.6870,  3.5654, -1.4852,  3.7609, 16.3605,  2.7607],\n",
              "        [-5.1082, -0.3862,  0.5938,  3.4361,  2.7607, 10.7365]])"
            ]
          },
          "metadata": {},
          "execution_count": 8
        }
      ],
      "source": [
        "# Умножьте тензор матрично на себя, чтобы результат был размерности 6x6\n",
        "torch.mm(b_tensor, b_tensor.T)\n"
      ]
    },
    {
      "cell_type": "code",
      "execution_count": 9,
      "metadata": {
        "colab": {
          "base_uri": "https://localhost:8080/"
        },
        "id": "qa7RTcp7zCRH",
        "outputId": "222c372b-bb5e-4606-f3ba-d83c568e69fb"
      },
      "outputs": [
        {
          "output_type": "stream",
          "name": "stdout",
          "text": [
            "Производная по x tensor([3.])\n",
            "Производная по z tensor([1.])\n",
            "Производная по t tensor([-75.])\n"
          ]
        }
      ],
      "source": [
        "# Посчитайте производную функции y = x**3 + z - 75t в точке (1, 0.5, 2)\n",
        "x = torch.tensor([1.], requires_grad=True)\n",
        "z = torch.tensor([0.5], requires_grad=True)\n",
        "t = torch.tensor([2.], requires_grad=True)\n",
        "y = x**3 + z - 75*t\n",
        "y.backward()\n",
        "print(f'Производная по x {x.grad}')\n",
        "print(f'Производная по z {z.grad}')\n",
        "print(f'Производная по t {t.grad}')"
      ]
    },
    {
      "cell_type": "code",
      "execution_count": 10,
      "metadata": {
        "colab": {
          "base_uri": "https://localhost:8080/"
        },
        "id": "s6iSYCCkzCRI",
        "outputId": "d915907d-5b24-4b80-88ca-32174cea55c2"
      },
      "outputs": [
        {
          "output_type": "execute_result",
          "data": {
            "text/plain": [
              "tensor([[1., 0., 0., 0., 0., 0.],\n",
              "        [0., 1., 0., 0., 0., 0.],\n",
              "        [0., 0., 1., 0., 0., 0.],\n",
              "        [0., 0., 0., 1., 0., 0.],\n",
              "        [0., 0., 0., 0., 1., 0.]])"
            ]
          },
          "metadata": {},
          "execution_count": 10
        }
      ],
      "source": [
        "# Создайте единичный тензор размера 5x6\n",
        "d_tensor = torch.eye(5, 6)\n",
        "d_tensor"
      ]
    },
    {
      "cell_type": "code",
      "execution_count": 11,
      "metadata": {
        "colab": {
          "base_uri": "https://localhost:8080/"
        },
        "id": "PWptZK6bzCRI",
        "outputId": "53f8af0d-fafb-4852-90c5-5697ff0ab148"
      },
      "outputs": [
        {
          "output_type": "execute_result",
          "data": {
            "text/plain": [
              "array([[1., 0., 0., 0., 0., 0.],\n",
              "       [0., 1., 0., 0., 0., 0.],\n",
              "       [0., 0., 1., 0., 0., 0.],\n",
              "       [0., 0., 0., 1., 0., 0.],\n",
              "       [0., 0., 0., 0., 1., 0.]], dtype=float32)"
            ]
          },
          "metadata": {},
          "execution_count": 11
        }
      ],
      "source": [
        "# Переведите его в формат numpy\n",
        "d_arr = d_tensor.numpy()\n",
        "d_arr"
      ]
    }
  ],
  "metadata": {
    "kernelspec": {
      "display_name": "Python 3",
      "language": "python",
      "name": "python3"
    },
    "language_info": {
      "codemirror_mode": {
        "name": "ipython",
        "version": 3
      },
      "file_extension": ".py",
      "mimetype": "text/x-python",
      "name": "python",
      "nbconvert_exporter": "python",
      "pygments_lexer": "ipython3",
      "version": "3.7.4"
    },
    "colab": {
      "provenance": [],
      "include_colab_link": true
    }
  },
  "nbformat": 4,
  "nbformat_minor": 0
}